{
  "nbformat": 4,
  "nbformat_minor": 0,
  "metadata": {
    "colab": {
      "name": "Manipulacion de datos con Pandas 1.ipynb",
      "provenance": [],
      "collapsed_sections": [],
      "authorship_tag": "ABX9TyMWGe3JBgwcF/mQw6LEVHB7",
      "include_colab_link": true
    },
    "kernelspec": {
      "name": "python3",
      "display_name": "Python 3"
    }
  },
  "cells": [
    {
      "cell_type": "markdown",
      "metadata": {
        "id": "view-in-github",
        "colab_type": "text"
      },
      "source": [
        "<a href=\"https://colab.research.google.com/github/SandyAtencio/Manipulacion_datos_pandas/blob/master/Manipulacion_de_datos_con_Pandas_1.ipynb\" target=\"_parent\"><img src=\"https://colab.research.google.com/assets/colab-badge.svg\" alt=\"Open In Colab\"/></a>"
      ]
    },
    {
      "cell_type": "markdown",
      "metadata": {
        "id": "mS320QsR4vKn"
      },
      "source": [
        "# Transformando datos\r\n",
        "\r\n",
        "## Presentacion de Dataframes\r\n",
        "\r\n",
        "### Introduccion a Dataframe\r\n",
        "\r\n",
        "Pandas es un paquete para la manipulacion y visualizacion de datos, esta construido sobre Numpy (brinda objetos de matriz multidimensional ) y Matplotlib (permite visualizar los datos)\r\n",
        "\r\n",
        "### Inspeccionar un DataFrame\r\n",
        "\r\n",
        "*   .head(): muestra las primeros 5 filas\r\n",
        "*   .info(): muestra nombre de las columnas, tipo de datos, y si tiene valore nulos en sus registros\r\n",
        "*   .shape: nos indica cuantas filas y columnas tiene el dataframe\r\n",
        "*   .describe(): calcula el resumen de algunas estadisticas para las columnas numericas ( como la media y la mediana)\r\n",
        "\r\n",
        "*Nota: los metodos van acompañados de parentesis mientras que los atributos no*\r\n",
        "\r\n",
        "### Partes de un dataframe\r\n",
        "Estan formados por 3 componentes, almacenados como atributos:\r\n",
        "\r\n",
        "* .values: Una matriz de valores NumPy bidimensional.\r\n",
        "* .columns: Un índice de columnas: los nombres de las columnas.\r\n",
        "* .index: Un índice para las filas: números de fila o nombres de fila.\r\n",
        "\r\n",
        "## Clasificacion y subconjuntos\r\n",
        "\r\n",
        "### Ordenar\r\n",
        "* .sort_values(nombre_columna): ordena los valores de esa columna de menor a mayor\r\n",
        "* .sort_values(nombre_columna, ascending=False): cuando especificamos el argumento ascending en falso, los valores se ordenaran al reves, es decir, de mayor a menor\r\n",
        "* .sort.values([nombre_columna, nombre_otra_columna]): podemos ordenar por multiples variables para ser ordenadas de menor a mayor\r\n",
        "* .sort.values([nombre_columna, nombre_otra_columna], ascending=[True, False]):\r\n",
        "para especificar cual va hacer el orden de casa columna o variable\r\n",
        "\r\n",
        "### Subconjunto de columnas\r\n",
        "* nombre_dataset[nombre_columna]: para acceder a los datos de una columna\r\n",
        "* nombre_dataset[[nombre_columna, nombre_otra_columna]]: para acceder a los datos de mas de una columna\r\n",
        "\r\n",
        "*Nota: los corchetes externos permiten crear un subconjunto del dataframe, mientras que los corchetes internos crean una lista de nombres de columnas para subconjunto*\r\n",
        "\r\n",
        "### Subconjunto de filas\r\n",
        "\r\n",
        "1.   dataframe[nombre_columna] > condicion: permite mostrar esa columna con los resultados en booleanos\r\n",
        "2.   dataframe[dataframe[nombre_columna] > condicion]: permite crear un subconjunto de filas y realizara el calculo sobre esa columna pero devolvera todas las observaciones del dataset\r\n",
        "3. varA = dataframe[nombre_columna_A] == cadena_a_comparar_1\r\n",
        "varB = dataframe[nombre_columna_B] == cadena_a_comparar_2\r\n",
        "dataframe[varA & varB]: de esta forma podemos realizar multiples condiciones\r\n",
        "4. .isin(): permite evaluar un valor dentro de una columna.\r\n",
        "\r\n",
        "*nota: las condiciones pueden ser numericas o de texto*\r\n",
        "\r\n",
        "## Nuevas columnas\r\n",
        "\r\n",
        "1. df[nueva_columna] = df.[colummna_existente] : permite crear una nueva colummna apartir de los datos de una columna existente, tambien podemos hacer calculos con la columna existente y se la agregamos a la nueva columna\r\n"
      ]
    },
    {
      "cell_type": "markdown",
      "metadata": {
        "id": "A-f4_H2nIG2O"
      },
      "source": [
        "# Ejercicios\r\n",
        "De acuerdo con lo explicado en la parte superior de este notebook, elabore los siguientes ejercicios.\r\n",
        "Aqui vamos a trabajar con un Dataset llamado Pokemón (super divertido), este dataset contiene informacion sobre los diferentes pokemones.\r\n",
        "<br>\r\n",
        "Aqui pondre que significa cada columna del dataset:\r\n",
        "<br>\r\n",
        "* **#**: ID de cada pokemon\r\n",
        "* **Name**: Nombre de cada pokemon\r\n",
        "* **Type 1**: cada pokemon tiene un tipo, esto determina la debilidad / resistencia a los ataques\r\n",
        "* **Type 2**: Algunos pokemones tiene dos tipos\r\n",
        "* **Total**: Suma de todas las estadisticas de un pokemon (aqui se determina que tan fuerte es el pokemon)\r\n",
        "* **HP**: puntos de golpe, o salud, define cuánto daño puede soportar un pokemon antes de desmayarse.\r\n",
        "* **Attack**: el modificador base para ataques normales (por ejemplo, Scratch, Punch)\r\n",
        "* **Defense**:  la resistencia al daño base contra ataques normales.\r\n",
        "* **SP Atk**: ataque especial, el modificador base para ataques especiales (por ejemplo, explosión de fuego, haz de burbujas)\r\n",
        "* **SP Def**: la resistencia base al daño contra ataques especiales\r\n",
        "* **Speed**: determina qué Pokémon ataca primero en cada ronda.\r\n",
        "\r\n",
        "**Nota**: aqui se encuentra alojado el dataset https://www.kaggle.com/abcsds/pokemon\r\n",
        "\r\n",
        "## Inspeccionar un DataFrame\r\n"
      ]
    },
    {
      "cell_type": "code",
      "metadata": {
        "id": "0CQlPFVYGvqG",
        "colab": {
          "base_uri": "https://localhost:8080/"
        },
        "outputId": "47666371-3562-4a27-86ad-4257c32cfb14"
      },
      "source": [
        "from google.colab import drive\r\n",
        "drive.mount('/content/gdrive/')"
      ],
      "execution_count": 1,
      "outputs": [
        {
          "output_type": "stream",
          "text": [
            "Mounted at /content/gdrive/\n"
          ],
          "name": "stdout"
        }
      ]
    },
    {
      "cell_type": "code",
      "metadata": {
        "id": "pHrKhmS7HCcH"
      },
      "source": [
        "import pandas as pd\r\n",
        "df = pd.read_csv('/content/gdrive/MyDrive/Pokemon.csv')"
      ],
      "execution_count": 45,
      "outputs": []
    },
    {
      "cell_type": "markdown",
      "metadata": {
        "id": "jP861DJ6IVR2"
      },
      "source": [
        "1. Imprime el encabezado del Dataframe de pokemon."
      ]
    },
    {
      "cell_type": "code",
      "metadata": {
        "colab": {
          "base_uri": "https://localhost:8080/",
          "height": 204
        },
        "id": "gxRLancRH0zG",
        "outputId": "8b4f8332-b0fa-4ebd-e28f-4ffd3be3fa20"
      },
      "source": [
        "df.head()"
      ],
      "execution_count": 46,
      "outputs": [
        {
          "output_type": "execute_result",
          "data": {
            "text/html": [
              "<div>\n",
              "<style scoped>\n",
              "    .dataframe tbody tr th:only-of-type {\n",
              "        vertical-align: middle;\n",
              "    }\n",
              "\n",
              "    .dataframe tbody tr th {\n",
              "        vertical-align: top;\n",
              "    }\n",
              "\n",
              "    .dataframe thead th {\n",
              "        text-align: right;\n",
              "    }\n",
              "</style>\n",
              "<table border=\"1\" class=\"dataframe\">\n",
              "  <thead>\n",
              "    <tr style=\"text-align: right;\">\n",
              "      <th></th>\n",
              "      <th>#</th>\n",
              "      <th>Name</th>\n",
              "      <th>Type 1</th>\n",
              "      <th>Type 2</th>\n",
              "      <th>Total</th>\n",
              "      <th>HP</th>\n",
              "      <th>Attack</th>\n",
              "      <th>Defense</th>\n",
              "      <th>Sp. Atk</th>\n",
              "      <th>Sp. Def</th>\n",
              "      <th>Speed</th>\n",
              "      <th>Generation</th>\n",
              "      <th>Legendary</th>\n",
              "    </tr>\n",
              "  </thead>\n",
              "  <tbody>\n",
              "    <tr>\n",
              "      <th>0</th>\n",
              "      <td>1</td>\n",
              "      <td>Bulbasaur</td>\n",
              "      <td>Grass</td>\n",
              "      <td>Poison</td>\n",
              "      <td>318</td>\n",
              "      <td>45</td>\n",
              "      <td>49</td>\n",
              "      <td>49</td>\n",
              "      <td>65</td>\n",
              "      <td>65</td>\n",
              "      <td>45</td>\n",
              "      <td>1</td>\n",
              "      <td>False</td>\n",
              "    </tr>\n",
              "    <tr>\n",
              "      <th>1</th>\n",
              "      <td>2</td>\n",
              "      <td>Ivysaur</td>\n",
              "      <td>Grass</td>\n",
              "      <td>Poison</td>\n",
              "      <td>405</td>\n",
              "      <td>60</td>\n",
              "      <td>62</td>\n",
              "      <td>63</td>\n",
              "      <td>80</td>\n",
              "      <td>80</td>\n",
              "      <td>60</td>\n",
              "      <td>1</td>\n",
              "      <td>False</td>\n",
              "    </tr>\n",
              "    <tr>\n",
              "      <th>2</th>\n",
              "      <td>3</td>\n",
              "      <td>Venusaur</td>\n",
              "      <td>Grass</td>\n",
              "      <td>Poison</td>\n",
              "      <td>525</td>\n",
              "      <td>80</td>\n",
              "      <td>82</td>\n",
              "      <td>83</td>\n",
              "      <td>100</td>\n",
              "      <td>100</td>\n",
              "      <td>80</td>\n",
              "      <td>1</td>\n",
              "      <td>False</td>\n",
              "    </tr>\n",
              "    <tr>\n",
              "      <th>3</th>\n",
              "      <td>3</td>\n",
              "      <td>VenusaurMega Venusaur</td>\n",
              "      <td>Grass</td>\n",
              "      <td>Poison</td>\n",
              "      <td>625</td>\n",
              "      <td>80</td>\n",
              "      <td>100</td>\n",
              "      <td>123</td>\n",
              "      <td>122</td>\n",
              "      <td>120</td>\n",
              "      <td>80</td>\n",
              "      <td>1</td>\n",
              "      <td>False</td>\n",
              "    </tr>\n",
              "    <tr>\n",
              "      <th>4</th>\n",
              "      <td>4</td>\n",
              "      <td>Charmander</td>\n",
              "      <td>Fire</td>\n",
              "      <td>NaN</td>\n",
              "      <td>309</td>\n",
              "      <td>39</td>\n",
              "      <td>52</td>\n",
              "      <td>43</td>\n",
              "      <td>60</td>\n",
              "      <td>50</td>\n",
              "      <td>65</td>\n",
              "      <td>1</td>\n",
              "      <td>False</td>\n",
              "    </tr>\n",
              "  </tbody>\n",
              "</table>\n",
              "</div>"
            ],
            "text/plain": [
              "   #                   Name Type 1  ... Speed  Generation  Legendary\n",
              "0  1              Bulbasaur  Grass  ...    45           1      False\n",
              "1  2                Ivysaur  Grass  ...    60           1      False\n",
              "2  3               Venusaur  Grass  ...    80           1      False\n",
              "3  3  VenusaurMega Venusaur  Grass  ...    80           1      False\n",
              "4  4             Charmander   Fire  ...    65           1      False\n",
              "\n",
              "[5 rows x 13 columns]"
            ]
          },
          "metadata": {
            "tags": []
          },
          "execution_count": 46
        }
      ]
    },
    {
      "cell_type": "markdown",
      "metadata": {
        "id": "jnWlFXRQIbm_"
      },
      "source": [
        "2. Imprima información sobre los tipos de columna y los valores perdidos."
      ]
    },
    {
      "cell_type": "code",
      "metadata": {
        "colab": {
          "base_uri": "https://localhost:8080/"
        },
        "id": "Zvk0-biAImqm",
        "outputId": "dfc44676-f8f0-4936-affd-4a5faddb1053"
      },
      "source": [
        "df.info()"
      ],
      "execution_count": 51,
      "outputs": [
        {
          "output_type": "stream",
          "text": [
            "<class 'pandas.core.frame.DataFrame'>\n",
            "RangeIndex: 800 entries, 0 to 799\n",
            "Data columns (total 13 columns):\n",
            " #   Column      Non-Null Count  Dtype \n",
            "---  ------      --------------  ----- \n",
            " 0   #           800 non-null    int64 \n",
            " 1   Name        800 non-null    object\n",
            " 2   Type 1      800 non-null    object\n",
            " 3   Type 2      414 non-null    object\n",
            " 4   Total       800 non-null    int64 \n",
            " 5   HP          800 non-null    int64 \n",
            " 6   Attack      800 non-null    int64 \n",
            " 7   Defense     800 non-null    int64 \n",
            " 8   Sp. Atk     800 non-null    int64 \n",
            " 9   Sp. Def     800 non-null    int64 \n",
            " 10  Speed       800 non-null    int64 \n",
            " 11  Generation  800 non-null    int64 \n",
            " 12  Legendary   800 non-null    bool  \n",
            "dtypes: bool(1), int64(9), object(3)\n",
            "memory usage: 75.9+ KB\n"
          ],
          "name": "stdout"
        }
      ]
    },
    {
      "cell_type": "markdown",
      "metadata": {
        "id": "45C3oGdOKOBe"
      },
      "source": [
        "3. Imprime el número de filas y columnas del Dataframe."
      ]
    },
    {
      "cell_type": "code",
      "metadata": {
        "colab": {
          "base_uri": "https://localhost:8080/"
        },
        "id": "2lxHpIB0KQfv",
        "outputId": "3f8441f5-66b0-4101-8599-90c9f84adcb7"
      },
      "source": [
        "df.shape"
      ],
      "execution_count": 52,
      "outputs": [
        {
          "output_type": "execute_result",
          "data": {
            "text/plain": [
              "(800, 13)"
            ]
          },
          "metadata": {
            "tags": []
          },
          "execution_count": 52
        }
      ]
    },
    {
      "cell_type": "markdown",
      "metadata": {
        "id": "0M-r3u1nKd1-"
      },
      "source": [
        "4. Imprima algunas estadísticas resumidas que describen al dataframe\r\n"
      ]
    },
    {
      "cell_type": "code",
      "metadata": {
        "colab": {
          "base_uri": "https://localhost:8080/",
          "height": 297
        },
        "id": "egpt7K1mKkid",
        "outputId": "e378cf86-e259-4db4-8c3f-d74b8fb084b1"
      },
      "source": [
        "df.describe()"
      ],
      "execution_count": 53,
      "outputs": [
        {
          "output_type": "execute_result",
          "data": {
            "text/html": [
              "<div>\n",
              "<style scoped>\n",
              "    .dataframe tbody tr th:only-of-type {\n",
              "        vertical-align: middle;\n",
              "    }\n",
              "\n",
              "    .dataframe tbody tr th {\n",
              "        vertical-align: top;\n",
              "    }\n",
              "\n",
              "    .dataframe thead th {\n",
              "        text-align: right;\n",
              "    }\n",
              "</style>\n",
              "<table border=\"1\" class=\"dataframe\">\n",
              "  <thead>\n",
              "    <tr style=\"text-align: right;\">\n",
              "      <th></th>\n",
              "      <th>#</th>\n",
              "      <th>Total</th>\n",
              "      <th>HP</th>\n",
              "      <th>Attack</th>\n",
              "      <th>Defense</th>\n",
              "      <th>Sp. Atk</th>\n",
              "      <th>Sp. Def</th>\n",
              "      <th>Speed</th>\n",
              "      <th>Generation</th>\n",
              "    </tr>\n",
              "  </thead>\n",
              "  <tbody>\n",
              "    <tr>\n",
              "      <th>count</th>\n",
              "      <td>800.000000</td>\n",
              "      <td>800.00000</td>\n",
              "      <td>800.000000</td>\n",
              "      <td>800.000000</td>\n",
              "      <td>800.000000</td>\n",
              "      <td>800.000000</td>\n",
              "      <td>800.000000</td>\n",
              "      <td>800.000000</td>\n",
              "      <td>800.00000</td>\n",
              "    </tr>\n",
              "    <tr>\n",
              "      <th>mean</th>\n",
              "      <td>362.813750</td>\n",
              "      <td>435.10250</td>\n",
              "      <td>69.258750</td>\n",
              "      <td>79.001250</td>\n",
              "      <td>73.842500</td>\n",
              "      <td>72.820000</td>\n",
              "      <td>71.902500</td>\n",
              "      <td>68.277500</td>\n",
              "      <td>3.32375</td>\n",
              "    </tr>\n",
              "    <tr>\n",
              "      <th>std</th>\n",
              "      <td>208.343798</td>\n",
              "      <td>119.96304</td>\n",
              "      <td>25.534669</td>\n",
              "      <td>32.457366</td>\n",
              "      <td>31.183501</td>\n",
              "      <td>32.722294</td>\n",
              "      <td>27.828916</td>\n",
              "      <td>29.060474</td>\n",
              "      <td>1.66129</td>\n",
              "    </tr>\n",
              "    <tr>\n",
              "      <th>min</th>\n",
              "      <td>1.000000</td>\n",
              "      <td>180.00000</td>\n",
              "      <td>1.000000</td>\n",
              "      <td>5.000000</td>\n",
              "      <td>5.000000</td>\n",
              "      <td>10.000000</td>\n",
              "      <td>20.000000</td>\n",
              "      <td>5.000000</td>\n",
              "      <td>1.00000</td>\n",
              "    </tr>\n",
              "    <tr>\n",
              "      <th>25%</th>\n",
              "      <td>184.750000</td>\n",
              "      <td>330.00000</td>\n",
              "      <td>50.000000</td>\n",
              "      <td>55.000000</td>\n",
              "      <td>50.000000</td>\n",
              "      <td>49.750000</td>\n",
              "      <td>50.000000</td>\n",
              "      <td>45.000000</td>\n",
              "      <td>2.00000</td>\n",
              "    </tr>\n",
              "    <tr>\n",
              "      <th>50%</th>\n",
              "      <td>364.500000</td>\n",
              "      <td>450.00000</td>\n",
              "      <td>65.000000</td>\n",
              "      <td>75.000000</td>\n",
              "      <td>70.000000</td>\n",
              "      <td>65.000000</td>\n",
              "      <td>70.000000</td>\n",
              "      <td>65.000000</td>\n",
              "      <td>3.00000</td>\n",
              "    </tr>\n",
              "    <tr>\n",
              "      <th>75%</th>\n",
              "      <td>539.250000</td>\n",
              "      <td>515.00000</td>\n",
              "      <td>80.000000</td>\n",
              "      <td>100.000000</td>\n",
              "      <td>90.000000</td>\n",
              "      <td>95.000000</td>\n",
              "      <td>90.000000</td>\n",
              "      <td>90.000000</td>\n",
              "      <td>5.00000</td>\n",
              "    </tr>\n",
              "    <tr>\n",
              "      <th>max</th>\n",
              "      <td>721.000000</td>\n",
              "      <td>780.00000</td>\n",
              "      <td>255.000000</td>\n",
              "      <td>190.000000</td>\n",
              "      <td>230.000000</td>\n",
              "      <td>194.000000</td>\n",
              "      <td>230.000000</td>\n",
              "      <td>180.000000</td>\n",
              "      <td>6.00000</td>\n",
              "    </tr>\n",
              "  </tbody>\n",
              "</table>\n",
              "</div>"
            ],
            "text/plain": [
              "                #      Total          HP  ...     Sp. Def       Speed  Generation\n",
              "count  800.000000  800.00000  800.000000  ...  800.000000  800.000000   800.00000\n",
              "mean   362.813750  435.10250   69.258750  ...   71.902500   68.277500     3.32375\n",
              "std    208.343798  119.96304   25.534669  ...   27.828916   29.060474     1.66129\n",
              "min      1.000000  180.00000    1.000000  ...   20.000000    5.000000     1.00000\n",
              "25%    184.750000  330.00000   50.000000  ...   50.000000   45.000000     2.00000\n",
              "50%    364.500000  450.00000   65.000000  ...   70.000000   65.000000     3.00000\n",
              "75%    539.250000  515.00000   80.000000  ...   90.000000   90.000000     5.00000\n",
              "max    721.000000  780.00000  255.000000  ...  230.000000  180.000000     6.00000\n",
              "\n",
              "[8 rows x 9 columns]"
            ]
          },
          "metadata": {
            "tags": []
          },
          "execution_count": 53
        }
      ]
    },
    {
      "cell_type": "markdown",
      "metadata": {
        "id": "Qrs-0gaDK7aX"
      },
      "source": [
        "## Partes de un DataFrame\r\n",
        "1. Imprima una matriz 2D NumPy de los valores."
      ]
    },
    {
      "cell_type": "code",
      "metadata": {
        "colab": {
          "base_uri": "https://localhost:8080/"
        },
        "id": "eNTH7_fELMOG",
        "outputId": "9c9a6249-93d1-4af5-ff71-e17690aa5b14"
      },
      "source": [
        "df.values"
      ],
      "execution_count": 54,
      "outputs": [
        {
          "output_type": "execute_result",
          "data": {
            "text/plain": [
              "array([[1, 'Bulbasaur', 'Grass', ..., 45, 1, False],\n",
              "       [2, 'Ivysaur', 'Grass', ..., 60, 1, False],\n",
              "       [3, 'Venusaur', 'Grass', ..., 80, 1, False],\n",
              "       ...,\n",
              "       [720, 'HoopaHoopa Confined', 'Psychic', ..., 70, 6, True],\n",
              "       [720, 'HoopaHoopa Unbound', 'Psychic', ..., 80, 6, True],\n",
              "       [721, 'Volcanion', 'Fire', ..., 70, 6, True]], dtype=object)"
            ]
          },
          "metadata": {
            "tags": []
          },
          "execution_count": 54
        }
      ]
    },
    {
      "cell_type": "markdown",
      "metadata": {
        "id": "hD0ODbxuLeJU"
      },
      "source": [
        "2. Imprima los nombres de columna del dataframe"
      ]
    },
    {
      "cell_type": "code",
      "metadata": {
        "colab": {
          "base_uri": "https://localhost:8080/"
        },
        "id": "kN6y0TebLgbl",
        "outputId": "da47c49a-7fda-4544-fcb9-2a6ffe5bea04"
      },
      "source": [
        "df.columns"
      ],
      "execution_count": 55,
      "outputs": [
        {
          "output_type": "execute_result",
          "data": {
            "text/plain": [
              "Index(['#', 'Name', 'Type 1', 'Type 2', 'Total', 'HP', 'Attack', 'Defense',\n",
              "       'Sp. Atk', 'Sp. Def', 'Speed', 'Generation', 'Legendary'],\n",
              "      dtype='object')"
            ]
          },
          "metadata": {
            "tags": []
          },
          "execution_count": 55
        }
      ]
    },
    {
      "cell_type": "markdown",
      "metadata": {
        "id": "GtTPTxNyLwh8"
      },
      "source": [
        "3. Imprime el índice del dataframe"
      ]
    },
    {
      "cell_type": "code",
      "metadata": {
        "colab": {
          "base_uri": "https://localhost:8080/"
        },
        "id": "GgKtt5cwL2Os",
        "outputId": "7d03954f-fea4-45f1-c02d-64fb1751d786"
      },
      "source": [
        "df.index"
      ],
      "execution_count": 56,
      "outputs": [
        {
          "output_type": "execute_result",
          "data": {
            "text/plain": [
              "RangeIndex(start=0, stop=800, step=1)"
            ]
          },
          "metadata": {
            "tags": []
          },
          "execution_count": 56
        }
      ]
    },
    {
      "cell_type": "markdown",
      "metadata": {
        "id": "FUNwfJ7GLrF1"
      },
      "source": [
        "## Ordenar filas\r\n",
        "1. Ordene el dataframe por la columna Speed, de menor a mayor, y guárdelo como df_speed."
      ]
    },
    {
      "cell_type": "code",
      "metadata": {
        "colab": {
          "base_uri": "https://localhost:8080/"
        },
        "id": "cGWg8ienMQbu",
        "outputId": "23919ca9-0561-4861-97a4-2b3e8471dd68"
      },
      "source": [
        "df_speed= df.sort_values(\"Speed\")\r\n",
        "print(df_speed.head())"
      ],
      "execution_count": 58,
      "outputs": [
        {
          "output_type": "stream",
          "text": [
            "       #       Name  Type 1 Type 2  ...  Sp. Def  Speed  Generation  Legendary\n",
            "495  446   Munchlax  Normal    NaN  ...       85      5           4      False\n",
            "230  213    Shuckle     Bug   Rock  ...      230      5           2      False\n",
            "658  597  Ferroseed   Grass  Steel  ...       86     10           5      False\n",
            "486  438     Bonsly    Rock    NaN  ...       45     10           4      False\n",
            "359  328   Trapinch  Ground    NaN  ...       45     10           3      False\n",
            "\n",
            "[5 rows x 13 columns]\n"
          ],
          "name": "stdout"
        }
      ]
    },
    {
      "cell_type": "markdown",
      "metadata": {
        "id": "rcE5thZZgErH"
      },
      "source": [
        "\r\n",
        "2. Ordene el dataframe por la columna speed y  ordenela de forma descendente y guárdelo como df_speed_des."
      ]
    },
    {
      "cell_type": "code",
      "metadata": {
        "colab": {
          "base_uri": "https://localhost:8080/"
        },
        "id": "hbyzlz6ogHMn",
        "outputId": "c492d39d-7db3-4f89-cd62-c963c9f3748b"
      },
      "source": [
        "df_speed_des= df.sort_values(\"Speed\", ascending=False)\r\n",
        "print(df_speed_des.head())"
      ],
      "execution_count": 59,
      "outputs": [
        {
          "output_type": "stream",
          "text": [
            "       #                       Name   Type 1  ... Speed  Generation  Legendary\n",
            "431  386          DeoxysSpeed Forme  Psychic  ...   180           3       True\n",
            "315  291                    Ninjask      Bug  ...   160           3      False\n",
            "428  386         DeoxysNormal Forme  Psychic  ...   150           3       True\n",
            "154  142  AerodactylMega Aerodactyl     Rock  ...   150           1      False\n",
            "71    65      AlakazamMega Alakazam  Psychic  ...   150           1      False\n",
            "\n",
            "[5 rows x 13 columns]\n"
          ],
          "name": "stdout"
        }
      ]
    },
    {
      "cell_type": "markdown",
      "metadata": {
        "id": "i90TZbIqgwxw"
      },
      "source": [
        "3. Ordene el dataframe primero por Type 1 (ascendente) y luego por Speed (descendente). Guarda esto como df_type_speed"
      ]
    },
    {
      "cell_type": "code",
      "metadata": {
        "colab": {
          "base_uri": "https://localhost:8080/"
        },
        "id": "nfc-FbUcgydW",
        "outputId": "5f7d9f21-0fef-4ce0-9dc1-5f75034e6ffc"
      },
      "source": [
        "df_type_speed = df.sort_values([\"Type 1\",\"Speed\"], ascending=[True, False])\r\n",
        "print(df_type_speed.head())"
      ],
      "execution_count": 65,
      "outputs": [
        {
          "output_type": "stream",
          "text": [
            "       #                   Name Type 1  ... Speed  Generation  Legendary\n",
            "315  291                Ninjask    Bug  ...   160           3      False\n",
            "19    15  BeedrillMega Beedrill    Bug  ...   145           1      False\n",
            "678  617               Accelgor    Bug  ...   145           5      False\n",
            "605  545              Scolipede    Bug  ...   112           5      False\n",
            "693  632                 Durant    Bug  ...   109           5      False\n",
            "\n",
            "[5 rows x 13 columns]\n"
          ],
          "name": "stdout"
        }
      ]
    },
    {
      "cell_type": "markdown",
      "metadata": {
        "id": "vZWLffdh-WzX"
      },
      "source": [
        "## Subconjuntos de columnas\r\n",
        "1. Cree un DataFrame llamado df_names que  contenga solo la colummna names del daraframe df."
      ]
    },
    {
      "cell_type": "code",
      "metadata": {
        "colab": {
          "base_uri": "https://localhost:8080/"
        },
        "id": "mPP9tzUZ-Ysy",
        "outputId": "87916ccb-0800-4407-9bf7-38e42562e1d5"
      },
      "source": [
        "df_names = df[\"Name\"]\r\n",
        "print(df_names.head())"
      ],
      "execution_count": 69,
      "outputs": [
        {
          "output_type": "stream",
          "text": [
            "0                Bulbasaur\n",
            "1                  Ivysaur\n",
            "2                 Venusaur\n",
            "3    VenusaurMega Venusaur\n",
            "4               Charmander\n",
            "Name: Name, dtype: object\n"
          ],
          "name": "stdout"
        }
      ]
    },
    {
      "cell_type": "markdown",
      "metadata": {
        "id": "U6neQB5S-wFZ"
      },
      "source": [
        "2. Cree un DataFrame llamado df_name_leg que contenga solo las columnas Name y Legendary de df, en ese orden."
      ]
    },
    {
      "cell_type": "code",
      "metadata": {
        "colab": {
          "base_uri": "https://localhost:8080/"
        },
        "id": "qEX3E_0W-xrE",
        "outputId": "696f61e3-4ccf-4a1c-ac4b-a1d13bedac6f"
      },
      "source": [
        "df_name_leg = df[[\"Name\", \"Legendary\"]]\r\n",
        "print(df_name_leg.head())"
      ],
      "execution_count": 71,
      "outputs": [
        {
          "output_type": "stream",
          "text": [
            "                    Name  Legendary\n",
            "0              Bulbasaur      False\n",
            "1                Ivysaur      False\n",
            "2               Venusaur      False\n",
            "3  VenusaurMega Venusaur      False\n",
            "4             Charmander      False\n"
          ],
          "name": "stdout"
        }
      ]
    },
    {
      "cell_type": "markdown",
      "metadata": {
        "id": "eltejZvo_SMl"
      },
      "source": [
        "##Subconjuntos de filas\r\n",
        "1. Filtre los casos de df en los que el total sea menor a 200, eso debes asignarlo a df_total"
      ]
    },
    {
      "cell_type": "code",
      "metadata": {
        "colab": {
          "base_uri": "https://localhost:8080/"
        },
        "id": "RV0hnA00_UJs",
        "outputId": "3344d348-3ea7-4492-c786-e408c0dfcb46"
      },
      "source": [
        "df_total = df[df[\"Total\"] < 200]\r\n",
        "print(df_total)"
      ],
      "execution_count": 80,
      "outputs": [
        {
          "output_type": "stream",
          "text": [
            "       #       Name   Type 1  Type 2  ...  Sp. Def  Speed  Generation  Legendary\n",
            "13    10   Caterpie      Bug     NaN  ...       20     45           1      False\n",
            "16    13     Weedle      Bug  Poison  ...       20     50           1      False\n",
            "206  191    Sunkern    Grass     NaN  ...       30     30           2      False\n",
            "288  265    Wurmple      Bug     NaN  ...       30     20           3      False\n",
            "303  280      Ralts  Psychic   Fairy  ...       35     40           3      False\n",
            "322  298    Azurill   Normal   Fairy  ...       40     20           3      False\n",
            "446  401  Kricketot      Bug     NaN  ...       41     25           4      False\n",
            "\n",
            "[7 rows x 13 columns]\n"
          ],
          "name": "stdout"
        }
      ]
    },
    {
      "cell_type": "markdown",
      "metadata": {
        "id": "cPv7-UmaA2KV"
      },
      "source": [
        "2. Filtre los casos de df en los que Type 2 sean \"Flying\", Asignando a df_type_2."
      ]
    },
    {
      "cell_type": "code",
      "metadata": {
        "colab": {
          "base_uri": "https://localhost:8080/"
        },
        "id": "xmX_MMByA4P8",
        "outputId": "2b1c6922-aaed-4caa-8036-85eeebed8309"
      },
      "source": [
        "df_type_2 = df[df[\"Type 2\"] == \"Flying\"]\r\n",
        "print(df_type_2)"
      ],
      "execution_count": 88,
      "outputs": [
        {
          "output_type": "stream",
          "text": [
            "       #                       Name    Type 1  ... Speed  Generation  Legendary\n",
            "6      6                  Charizard      Fire  ...   100           1      False\n",
            "8      6  CharizardMega Charizard Y      Fire  ...   100           1      False\n",
            "15    12                 Butterfree       Bug  ...    70           1      False\n",
            "20    16                     Pidgey    Normal  ...    56           1      False\n",
            "21    17                  Pidgeotto    Normal  ...    71           1      False\n",
            "..   ...                        ...       ...  ...   ...         ...        ...\n",
            "730  662                Fletchinder      Fire  ...    84           6      False\n",
            "731  663                 Talonflame      Fire  ...   126           6      False\n",
            "734  666                   Vivillon       Bug  ...    89           6      False\n",
            "771  701                   Hawlucha  Fighting  ...   118           6      False\n",
            "793  717                    Yveltal      Dark  ...    99           6       True\n",
            "\n",
            "[97 rows x 13 columns]\n"
          ],
          "name": "stdout"
        }
      ]
    },
    {
      "cell_type": "markdown",
      "metadata": {
        "id": "V_9Tfv0-B8gs"
      },
      "source": [
        "3. Filtre los casos de df en los que el Attack sea inferior a 50 y type 1 sea \"Fire\", asignando a df_type_1_20\r\n",
        "\r\n",
        "\r\n",
        "\r\n"
      ]
    },
    {
      "cell_type": "code",
      "metadata": {
        "colab": {
          "base_uri": "https://localhost:8080/"
        },
        "id": "qF4AJiUXB6vV",
        "outputId": "a17902ca-bd57-48e9-d591-53188f0ff09e"
      },
      "source": [
        "df_type_1_20 = df[ (df[\"Attack\"] < 50 ) & (df[\"Type 1\"] == \"Fire\")]\r\n",
        "print(df_type_1_20)"
      ],
      "execution_count": 93,
      "outputs": [
        {
          "output_type": "stream",
          "text": [
            "       #                Name Type 1  ... Speed  Generation  Legendary\n",
            "42    37              Vulpix   Fire  ...    65           1      False\n",
            "236  218              Slugma   Fire  ...    20           2      False\n",
            "616  555  DarmanitanZen Mode   Fire  ...    55           5      False\n",
            "721  653            Fennekin   Fire  ...    60           6      False\n",
            "\n",
            "[4 rows x 13 columns]\n"
          ],
          "name": "stdout"
        }
      ]
    },
    {
      "cell_type": "markdown",
      "metadata": {
        "id": "1gEXpn-GJ25b"
      },
      "source": [
        "##Subconjuntos de filas por variables categóricas\r\n",
        "\r\n",
        "1. Filtre los casos en los que type 1 sea \"Water\" o \"Fire\", asignando a df_wat_fir\r\n",
        "\r\n",
        "\r\n",
        "\r\n"
      ]
    },
    {
      "cell_type": "code",
      "metadata": {
        "colab": {
          "base_uri": "https://localhost:8080/"
        },
        "id": "ynoGvcE4DUq9",
        "outputId": "fa85e2cb-95c4-4ebd-9e2b-cc3a9f84e611"
      },
      "source": [
        "df_wat_fir = df[ (df[\"Type 1\"] == \"Water\") | (df[\"Type 1\"] == \"Fire\")]\r\n",
        "print(df_wat_fir)"
      ],
      "execution_count": 96,
      "outputs": [
        {
          "output_type": "stream",
          "text": [
            "       #                       Name Type 1  ... Speed  Generation  Legendary\n",
            "4      4                 Charmander   Fire  ...    65           1      False\n",
            "5      5                 Charmeleon   Fire  ...    80           1      False\n",
            "6      6                  Charizard   Fire  ...   100           1      False\n",
            "7      6  CharizardMega Charizard X   Fire  ...   100           1      False\n",
            "8      6  CharizardMega Charizard Y   Fire  ...   100           1      False\n",
            "..   ...                        ...    ...  ...   ...         ...        ...\n",
            "735  667                     Litleo   Fire  ...    72           6      False\n",
            "736  668                     Pyroar   Fire  ...   106           6      False\n",
            "762  692                  Clauncher  Water  ...    44           6      False\n",
            "763  693                  Clawitzer  Water  ...    59           6      False\n",
            "799  721                  Volcanion   Fire  ...    70           6       True\n",
            "\n",
            "[164 rows x 13 columns]\n"
          ],
          "name": "stdout"
        }
      ]
    },
    {
      "cell_type": "markdown",
      "metadata": {
        "id": "mPFnWysnDPpk"
      },
      "source": [
        "2. Filtre los casos de df en los que generation sea 1, 2 , 3, asignando a df_gen."
      ]
    },
    {
      "cell_type": "code",
      "metadata": {
        "colab": {
          "base_uri": "https://localhost:8080/"
        },
        "id": "hTeksQYWDVL8",
        "outputId": "53909afa-577a-4453-e2d4-8e48fb13269e"
      },
      "source": [
        "gen = [1, 2, 3]\r\n",
        "df_gen = df[ df[\"Generation\"].isin(gen)]\r\n",
        "print(df_gen)"
      ],
      "execution_count": 97,
      "outputs": [
        {
          "output_type": "stream",
          "text": [
            "       #                   Name   Type 1  ... Speed  Generation  Legendary\n",
            "0      1              Bulbasaur    Grass  ...    45           1      False\n",
            "1      2                Ivysaur    Grass  ...    60           1      False\n",
            "2      3               Venusaur    Grass  ...    80           1      False\n",
            "3      3  VenusaurMega Venusaur    Grass  ...    80           1      False\n",
            "4      4             Charmander     Fire  ...    65           1      False\n",
            "..   ...                    ...      ...  ...   ...         ...        ...\n",
            "427  385                Jirachi    Steel  ...   100           3       True\n",
            "428  386     DeoxysNormal Forme  Psychic  ...   150           3       True\n",
            "429  386     DeoxysAttack Forme  Psychic  ...   150           3       True\n",
            "430  386    DeoxysDefense Forme  Psychic  ...    90           3       True\n",
            "431  386      DeoxysSpeed Forme  Psychic  ...   180           3       True\n",
            "\n",
            "[432 rows x 13 columns]\n"
          ],
          "name": "stdout"
        }
      ]
    },
    {
      "cell_type": "markdown",
      "metadata": {
        "id": "AuQ28J2jDV0d"
      },
      "source": [
        "## Agregando nuevas columnas\r\n",
        "\r\n",
        "1. Agregue una nueva columna a df, nombrarla Total_Special, que contenga la suma de las columnas Sp. Atk y Sp. Def\r\n",
        "\r\n"
      ]
    },
    {
      "cell_type": "code",
      "metadata": {
        "colab": {
          "base_uri": "https://localhost:8080/"
        },
        "id": "SkVZWN_pDYUc",
        "outputId": "fa3432ad-27bb-4fe3-db9f-fc380cfb0f17"
      },
      "source": [
        "df[\"Total_Special\"] = df[\"Sp. Atk\"] + df[\"Sp. Def\"]\r\n",
        "print(df)"
      ],
      "execution_count": 100,
      "outputs": [
        {
          "output_type": "stream",
          "text": [
            "       #                   Name   Type 1  ... Generation  Legendary  Total_Special\n",
            "0      1              Bulbasaur    Grass  ...          1      False            130\n",
            "1      2                Ivysaur    Grass  ...          1      False            160\n",
            "2      3               Venusaur    Grass  ...          1      False            200\n",
            "3      3  VenusaurMega Venusaur    Grass  ...          1      False            242\n",
            "4      4             Charmander     Fire  ...          1      False            110\n",
            "..   ...                    ...      ...  ...        ...        ...            ...\n",
            "795  719                Diancie     Rock  ...          6       True            250\n",
            "796  719    DiancieMega Diancie     Rock  ...          6       True            270\n",
            "797  720    HoopaHoopa Confined  Psychic  ...          6       True            280\n",
            "798  720     HoopaHoopa Unbound  Psychic  ...          6       True            300\n",
            "799  721              Volcanion     Fire  ...          6       True            220\n",
            "\n",
            "[800 rows x 14 columns]\n"
          ],
          "name": "stdout"
        }
      ]
    }
  ]
}